{
 "cells": [
  {
   "cell_type": "markdown",
   "metadata": {},
   "source": [
    "# Base types\n",
    "\n",
    "A `Container` is an object that can contain other objects, such as a room, a box or a backpack. Objects (and people!) can be placed inside these. For now, we don't care about size - a person can fit inside a pocket."
   ]
  },
  {
   "cell_type": "code",
   "execution_count": 159,
   "metadata": {},
   "outputs": [],
   "source": [
    "class Container(object):\n",
    "    def __init__(self):\n",
    "        self.content = []\n",
    "        \n",
    "    def place_object_here(self, item):\n",
    "        self.content.append(item)\n",
    "        item.update_position(self)\n",
    "        return self\n",
    "        \n",
    "    def remove(self, item):\n",
    "        self.content.remove(item)\n",
    "        return self\n",
    "\n",
    "    def find(self, name):\n",
    "        return [item for item in self.content if item.name == name]\n",
    "        return self\n",
    "        \n",
    "    def __repr__(self):\n",
    "        items = [str(item) for item in self.content if not isinstance(item, User)]\n",
    "        if len(items) == 0:\n",
    "            return \"nothing\"\n",
    "        return \"\\n\".join(items)\n",
    "        "
   ]
  },
  {
   "cell_type": "markdown",
   "metadata": {},
   "source": [
    "A `PlacableObject` is any object (or person) that can be placed inside a `Container`. It remembers where it currently is placed."
   ]
  },
  {
   "cell_type": "code",
   "execution_count": 160,
   "metadata": {},
   "outputs": [],
   "source": [
    "class PlacableObject(object):\n",
    "    def __init__(self, name):\n",
    "        self.name = name\n",
    "        self.position = None\n",
    "    \n",
    "    def place(self, room):\n",
    "        room.place_object_here(self)\n",
    "        return self\n",
    "    \n",
    "    def update_position(self, room):\n",
    "        if self.position is not None:\n",
    "            self.position.remove(self)\n",
    "        self.position = room\n",
    "        return self\n",
    "        \n",
    "    def __repr__(self):\n",
    "        return self.name"
   ]
  },
  {
   "cell_type": "markdown",
   "metadata": {},
   "source": [
    "# Game object types\n",
    "A `Room` is a container that is connected to other rooms using doors, making up a map. People can walk between rooms using the doors. Note that doors needn't be bidirectional - some rooms might have one way doors, trapping you."
   ]
  },
  {
   "cell_type": "code",
   "execution_count": 161,
   "metadata": {},
   "outputs": [],
   "source": [
    "class Room(Container):\n",
    "    def __init__(self, description):\n",
    "        Container.__init__(self)\n",
    "        self.description = description\n",
    "        self.doors = {}\n",
    "        \n",
    "    def make_door(self, other, direction):\n",
    "        self.doors[direction] = other\n",
    "        return self\n",
    "    \n",
    "    def __repr__(self):\n",
    "        return \"\"\"%s\n",
    "There are doors in these directions: %s\n",
    "In this room:\n",
    "%s\n",
    "\"\"\" % (self.description,\n",
    "       \", \".join(self.doors.keys()),\n",
    "       Container.__repr__(self))\n",
    "    "
   ]
  },
  {
   "cell_type": "markdown",
   "metadata": {},
   "source": [
    "A `Person` is both a `PlacableObject` in that it can reside in e.g. a `Room`, but it's also a `Container` so that it can hold stuff. `Person` has methods to pick up things from the room they are in given some name of the thing to pick up, and to drop things they are holding (placing them in the room the person is in)."
   ]
  },
  {
   "cell_type": "code",
   "execution_count": null,
   "metadata": {},
   "outputs": [],
   "source": [
    "class Person(Container, PlacableObject):\n",
    "    def __init__(self, name):\n",
    "        Container.__init__(self)\n",
    "        PlacableObject.__init__(self, name)\n",
    "        \n",
    "    def pick(self, name):\n",
    "        items = self.position.find(name)\n",
    "        assert len(items) > 0, \"Item not found\"\n",
    "        for item in items:\n",
    "            item.place(self)\n",
    "        return self\n",
    "    \n",
    "    def drop(self, name):\n",
    "        items = self.find(name)\n",
    "        assert len(items) > 0, \"Item not found\"\n",
    "        for item in items:\n",
    "            item.place(self.position)\n",
    "        return self\n",
    "\n",
    "    def walk(self, direction):\n",
    "        self.place(self.position.doors[direction])\n",
    "        return self\n",
    "\n",
    "    def __repr__(self):\n",
    "        return \"\"\"%s who has %s\n",
    "\"\"\" % (self.name, Container.__repr__(self))"
   ]
  },
  {
   "cell_type": "markdown",
   "metadata": {},
   "source": [
    "A `User` is a kind of `Person` who knows they are the center of their universe. This is mostly a printing issue, to make plaing the game look nice."
   ]
  },
  {
   "cell_type": "code",
   "execution_count": 184,
   "metadata": {},
   "outputs": [],
   "source": [
    "class User(Person):\n",
    "    def __repr__(self):\n",
    "        return \"\"\"You are in\n",
    "%s\n",
    "\n",
    "You have: %s\n",
    "\"\"\" % (self.position, Container.__repr__(self))"
   ]
  },
  {
   "cell_type": "markdown",
   "metadata": {},
   "source": [
    "# Making a map and placing people and things in it\n",
    "\n",
    "To make a map, we create the rooms and connect them using doors."
   ]
  },
  {
   "cell_type": "code",
   "execution_count": 203,
   "metadata": {},
   "outputs": [],
   "source": [
    "livingroom = Room(\"Livingroom\")\n",
    "bedroom = Room(\"Bedroom\")\n",
    "kitchen = Room(\"Kitchen\")\n",
    "bedroom.make_door(livingroom, \"west\"); livingroom.make_door(bedroom, \"east\");\n",
    "kitchen.make_door(livingroom, \"north\"); livingroom.make_door(kitchen, \"south\");\n"
   ]
  },
  {
   "cell_type": "markdown",
   "metadata": {},
   "source": [
    "Once we have the basic map made, we can create and place some objects and people in the map."
   ]
  },
  {
   "cell_type": "code",
   "execution_count": 204,
   "metadata": {},
   "outputs": [
    {
     "data": {
      "text/plain": [
       "Ove who has nothing"
      ]
     },
     "execution_count": 204,
     "metadata": {},
     "output_type": "execute_result"
    }
   ],
   "source": [
    "spoon = PlacableObject(\"spoon\")\n",
    "spoon.place(kitchen)\n",
    "\n",
    "ove = Person(\"Ove\")\n",
    "ove.place(livingroom)"
   ]
  },
  {
   "cell_type": "markdown",
   "metadata": {},
   "source": [
    "# Creating a user and beginning the game\n",
    "\n",
    "To start playing, we need to create a user object and place it somewhere on the map. After that, we can just use the user object to walk around and interact with the game."
   ]
  },
  {
   "cell_type": "code",
   "execution_count": 205,
   "metadata": {},
   "outputs": [
    {
     "data": {
      "text/plain": [
       "You are in\n",
       "Kitchen\n",
       "There are doors in these directions: north\n",
       "In this room:\n",
       "spoon\n",
       "\n",
       "\n",
       "You have: nothing"
      ]
     },
     "execution_count": 205,
     "metadata": {},
     "output_type": "execute_result"
    }
   ],
   "source": [
    "me = User(\"Egil\")\n",
    "me.place(kitchen)"
   ]
  },
  {
   "cell_type": "code",
   "execution_count": 206,
   "metadata": {},
   "outputs": [
    {
     "data": {
      "text/plain": [
       "You are in\n",
       "Kitchen\n",
       "There are doors in these directions: north\n",
       "In this room:\n",
       "nothing\n",
       "\n",
       "\n",
       "You have: spoon"
      ]
     },
     "execution_count": 206,
     "metadata": {},
     "output_type": "execute_result"
    }
   ],
   "source": [
    "me.pick(\"spoon\")"
   ]
  },
  {
   "cell_type": "code",
   "execution_count": 207,
   "metadata": {},
   "outputs": [
    {
     "data": {
      "text/plain": [
       "You are in\n",
       "Kitchen\n",
       "There are doors in these directions: north\n",
       "In this room:\n",
       "spoon\n",
       "\n",
       "\n",
       "You have: nothing"
      ]
     },
     "execution_count": 207,
     "metadata": {},
     "output_type": "execute_result"
    }
   ],
   "source": [
    "me.drop(\"spoon\")"
   ]
  },
  {
   "cell_type": "code",
   "execution_count": 208,
   "metadata": {},
   "outputs": [
    {
     "data": {
      "text/plain": [
       "You are in\n",
       "Kitchen\n",
       "There are doors in these directions: north\n",
       "In this room:\n",
       "nothing\n",
       "\n",
       "\n",
       "You have: spoon"
      ]
     },
     "execution_count": 208,
     "metadata": {},
     "output_type": "execute_result"
    }
   ],
   "source": [
    "me.pick(\"spoon\")"
   ]
  },
  {
   "cell_type": "code",
   "execution_count": 209,
   "metadata": {},
   "outputs": [
    {
     "data": {
      "text/plain": [
       "You are in\n",
       "Livingroom\n",
       "There are doors in these directions: east, south\n",
       "In this room:\n",
       "Ove who has nothing\n",
       "\n",
       "\n",
       "\n",
       "You have: spoon"
      ]
     },
     "execution_count": 209,
     "metadata": {},
     "output_type": "execute_result"
    }
   ],
   "source": [
    "me.walk(\"north\")"
   ]
  },
  {
   "cell_type": "code",
   "execution_count": 210,
   "metadata": {},
   "outputs": [
    {
     "data": {
      "text/plain": [
       "You are in\n",
       "Kitchen\n",
       "There are doors in these directions: north\n",
       "In this room:\n",
       "nothing\n",
       "\n",
       "\n",
       "You have: spoon"
      ]
     },
     "execution_count": 210,
     "metadata": {},
     "output_type": "execute_result"
    }
   ],
   "source": [
    "me.walk(\"south\")"
   ]
  },
  {
   "cell_type": "code",
   "execution_count": 211,
   "metadata": {},
   "outputs": [
    {
     "data": {
      "text/plain": [
       "You are in\n",
       "Livingroom\n",
       "There are doors in these directions: east, south\n",
       "In this room:\n",
       "Ove who has nothing\n",
       "\n",
       "\n",
       "\n",
       "You have: spoon"
      ]
     },
     "execution_count": 211,
     "metadata": {},
     "output_type": "execute_result"
    }
   ],
   "source": [
    "me.walk(\"north\")"
   ]
  },
  {
   "cell_type": "code",
   "execution_count": 212,
   "metadata": {},
   "outputs": [
    {
     "data": {
      "text/plain": [
       "You are in\n",
       "Bedroom\n",
       "There are doors in these directions: west\n",
       "In this room:\n",
       "nothing\n",
       "\n",
       "\n",
       "You have: spoon"
      ]
     },
     "execution_count": 212,
     "metadata": {},
     "output_type": "execute_result"
    }
   ],
   "source": [
    "me.walk(\"east\")"
   ]
  },
  {
   "cell_type": "code",
   "execution_count": 213,
   "metadata": {},
   "outputs": [
    {
     "ename": "KeyError",
     "evalue": "'east'",
     "output_type": "error",
     "traceback": [
      "\u001b[0;31m---------------------------------------------------------------------------\u001b[0m",
      "\u001b[0;31mKeyError\u001b[0m                                  Traceback (most recent call last)",
      "Input \u001b[0;32mIn [213]\u001b[0m, in \u001b[0;36m<cell line: 1>\u001b[0;34m()\u001b[0m\n\u001b[0;32m----> 1\u001b[0m \u001b[43mme\u001b[49m\u001b[38;5;241;43m.\u001b[39;49m\u001b[43mwalk\u001b[49m\u001b[43m(\u001b[49m\u001b[38;5;124;43m\"\u001b[39;49m\u001b[38;5;124;43meast\u001b[39;49m\u001b[38;5;124;43m\"\u001b[39;49m\u001b[43m)\u001b[49m\n",
      "Input \u001b[0;32mIn [170]\u001b[0m, in \u001b[0;36mPerson.walk\u001b[0;34m(self, direction)\u001b[0m\n\u001b[1;32m     20\u001b[0m \u001b[38;5;28;01mdef\u001b[39;00m \u001b[38;5;21mwalk\u001b[39m(\u001b[38;5;28mself\u001b[39m, direction):\n\u001b[0;32m---> 21\u001b[0m     \u001b[38;5;28mself\u001b[39m\u001b[38;5;241m.\u001b[39mplace(\u001b[38;5;28;43mself\u001b[39;49m\u001b[38;5;241;43m.\u001b[39;49m\u001b[43mposition\u001b[49m\u001b[38;5;241;43m.\u001b[39;49m\u001b[43mdoors\u001b[49m\u001b[43m[\u001b[49m\u001b[43mdirection\u001b[49m\u001b[43m]\u001b[49m)\n\u001b[1;32m     22\u001b[0m     \u001b[38;5;28;01mreturn\u001b[39;00m \u001b[38;5;28mself\u001b[39m\n",
      "\u001b[0;31mKeyError\u001b[0m: 'east'"
     ]
    }
   ],
   "source": [
    "me.walk(\"east\")"
   ]
  },
  {
   "cell_type": "code",
   "execution_count": 214,
   "metadata": {},
   "outputs": [
    {
     "data": {
      "text/plain": [
       "Ove who has nothing"
      ]
     },
     "execution_count": 214,
     "metadata": {},
     "output_type": "execute_result"
    }
   ],
   "source": [
    "ove.walk(\"south\")"
   ]
  },
  {
   "cell_type": "code",
   "execution_count": 215,
   "metadata": {},
   "outputs": [
    {
     "data": {
      "text/plain": [
       "Kitchen\n",
       "There are doors in these directions: north\n",
       "In this room:\n",
       "Ove who has nothing\n"
      ]
     },
     "execution_count": 215,
     "metadata": {},
     "output_type": "execute_result"
    }
   ],
   "source": [
    "ove.position"
   ]
  },
  {
   "cell_type": "code",
   "execution_count": null,
   "metadata": {},
   "outputs": [],
   "source": []
  }
 ],
 "metadata": {
  "kernelspec": {
   "display_name": "emerald-interpret-gui",
   "language": "python",
   "name": "emerald-interpret-gui"
  },
  "language_info": {
   "codemirror_mode": {
    "name": "ipython",
    "version": 3
   },
   "file_extension": ".py",
   "mimetype": "text/x-python",
   "name": "python",
   "nbconvert_exporter": "python",
   "pygments_lexer": "ipython3",
   "version": "3.8.0"
  }
 },
 "nbformat": 4,
 "nbformat_minor": 2
}
