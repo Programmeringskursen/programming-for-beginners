{
 "cells": [
  {
   "cell_type": "code",
   "execution_count": 118,
   "metadata": {},
   "outputs": [],
   "source": [
    "class Container(object):\n",
    "    def __init__(self):\n",
    "        self.content = []\n",
    "        \n",
    "    def place_object_here(self, item):\n",
    "        self.content.append(item)\n",
    "        item.update_position(self)\n",
    "        return self\n",
    "        \n",
    "    def remove(self, item):\n",
    "        self.content.remove(item)\n",
    "        return self\n",
    "\n",
    "    def find(self, name):\n",
    "        return [item for item in self.content if item.name == name]\n",
    "        return self\n",
    "        \n",
    "    def __repr__(self):\n",
    "        return \"\\n\".join([str(item) for item in self.content if not isinstance(item, User)])\n",
    "        "
   ]
  },
  {
   "cell_type": "code",
   "execution_count": 119,
   "metadata": {},
   "outputs": [],
   "source": [
    "class PlacableObject(object):\n",
    "    def __init__(self, name):\n",
    "        self.name = name\n",
    "        self.position = None\n",
    "    \n",
    "    def place(self, room):\n",
    "        room.place_object_here(self)\n",
    "        return self\n",
    "    \n",
    "    def update_position(self, room):\n",
    "        if self.position is not None:\n",
    "            self.position.remove(self)\n",
    "        self.position = room\n",
    "        return self\n",
    "        \n",
    "    def __repr__(self):\n",
    "        return self.name"
   ]
  },
  {
   "cell_type": "code",
   "execution_count": 120,
   "metadata": {},
   "outputs": [],
   "source": [
    "class Room(Container):\n",
    "    def __init__(self, description):\n",
    "        Container.__init__(self)\n",
    "        self.description = description\n",
    "        self.doors = {}\n",
    "        \n",
    "    def make_door(self, other, direction):\n",
    "        self.doors[direction] = other\n",
    "        return self\n",
    "    \n",
    "    def __repr__(self):\n",
    "        return \"\"\"%s\n",
    "There are doors in these directions: %s\n",
    "In this room:\n",
    "%s\n",
    "\"\"\" % (self.description,\n",
    "       \", \".join(self.doors.keys()),\n",
    "       Container.__repr__(self))\n",
    "    "
   ]
  },
  {
   "cell_type": "code",
   "execution_count": 121,
   "metadata": {},
   "outputs": [],
   "source": [
    "class Person(Container, PlacableObject):\n",
    "    def __init__(self, name):\n",
    "        Container.__init__(self)\n",
    "        PlacableObject.__init__(self, name)\n",
    "        \n",
    "    def pick(self, name):\n",
    "        items = self.position.find(name)\n",
    "        assert len(items) > 0, \"Item not found\"\n",
    "        for item in items:\n",
    "            item.place(self)\n",
    "        return self\n",
    "    \n",
    "    def drop(self, name):\n",
    "        items = self.find(name)\n",
    "        assert len(items) > 0, \"Item not found\"\n",
    "        for item in items:\n",
    "            item.place(self.position)\n",
    "        return self\n",
    "\n",
    "    def walk(self, direction):\n",
    "        self.place(self.position.doors[direction])\n",
    "        return self\n",
    "    \n",
    "class User(Person):\n",
    "    def __repr__(self):\n",
    "        return \"\"\"You are in\n",
    "%s\n",
    "\n",
    "You have: %s\n",
    "\"\"\" % (self.position, Container.__repr__(self))"
   ]
  },
  {
   "cell_type": "code",
   "execution_count": null,
   "metadata": {},
   "outputs": [],
   "source": []
  },
  {
   "cell_type": "code",
   "execution_count": 133,
   "metadata": {},
   "outputs": [],
   "source": [
    "livingroom = Room(\"Livingroom\")\n",
    "bedroom = Room(\"Bedroom\")\n",
    "kitchen = Room(\"Kitchen\")\n",
    "bedroom.make_door(livingroom, \"west\"); livingroom.make_door(bedroom, \"east\");\n",
    "kitchen.make_door(livingroom, \"north\"); livingroom.make_door(kitchen, \"south\");\n"
   ]
  },
  {
   "cell_type": "code",
   "execution_count": 134,
   "metadata": {},
   "outputs": [
    {
     "data": {
      "text/plain": [
       "spoon"
      ]
     },
     "execution_count": 134,
     "metadata": {},
     "output_type": "execute_result"
    }
   ],
   "source": [
    "spoon = PlacableObject(\"spoon\")\n",
    "spoon.place(kitchen)"
   ]
  },
  {
   "cell_type": "code",
   "execution_count": 135,
   "metadata": {},
   "outputs": [
    {
     "data": {
      "text/plain": [
       "You are in\n",
       "Kitchen\n",
       "There are doors in these directions: north\n",
       "In this room:\n",
       "spoon\n",
       "\n",
       "\n",
       "You have: "
      ]
     },
     "execution_count": 135,
     "metadata": {},
     "output_type": "execute_result"
    }
   ],
   "source": [
    "me = User(\"Egil\")\n",
    "me.place(kitchen)"
   ]
  },
  {
   "cell_type": "code",
   "execution_count": 136,
   "metadata": {},
   "outputs": [
    {
     "data": {
      "text/plain": [
       "You are in\n",
       "Kitchen\n",
       "There are doors in these directions: north\n",
       "In this room:\n",
       "\n",
       "\n",
       "\n",
       "You have: spoon"
      ]
     },
     "execution_count": 136,
     "metadata": {},
     "output_type": "execute_result"
    }
   ],
   "source": [
    "me.pick(\"spoon\")"
   ]
  },
  {
   "cell_type": "code",
   "execution_count": 137,
   "metadata": {},
   "outputs": [
    {
     "data": {
      "text/plain": [
       "You are in\n",
       "Kitchen\n",
       "There are doors in these directions: north\n",
       "In this room:\n",
       "spoon\n",
       "\n",
       "\n",
       "You have: "
      ]
     },
     "execution_count": 137,
     "metadata": {},
     "output_type": "execute_result"
    }
   ],
   "source": [
    "me.drop(\"spoon\")"
   ]
  },
  {
   "cell_type": "code",
   "execution_count": 138,
   "metadata": {},
   "outputs": [
    {
     "data": {
      "text/plain": [
       "You are in\n",
       "Kitchen\n",
       "There are doors in these directions: north\n",
       "In this room:\n",
       "\n",
       "\n",
       "\n",
       "You have: spoon"
      ]
     },
     "execution_count": 138,
     "metadata": {},
     "output_type": "execute_result"
    }
   ],
   "source": [
    "me.pick(\"spoon\")"
   ]
  },
  {
   "cell_type": "code",
   "execution_count": 139,
   "metadata": {},
   "outputs": [
    {
     "data": {
      "text/plain": [
       "You are in\n",
       "Livingroom\n",
       "There are doors in these directions: east, south\n",
       "In this room:\n",
       "\n",
       "\n",
       "\n",
       "You have: spoon"
      ]
     },
     "execution_count": 139,
     "metadata": {},
     "output_type": "execute_result"
    }
   ],
   "source": [
    "me.walk(\"north\")"
   ]
  },
  {
   "cell_type": "code",
   "execution_count": 140,
   "metadata": {},
   "outputs": [
    {
     "data": {
      "text/plain": [
       "You are in\n",
       "Kitchen\n",
       "There are doors in these directions: north\n",
       "In this room:\n",
       "\n",
       "\n",
       "\n",
       "You have: spoon"
      ]
     },
     "execution_count": 140,
     "metadata": {},
     "output_type": "execute_result"
    }
   ],
   "source": [
    "me.walk(\"south\")"
   ]
  },
  {
   "cell_type": "code",
   "execution_count": 141,
   "metadata": {},
   "outputs": [
    {
     "data": {
      "text/plain": [
       "You are in\n",
       "Livingroom\n",
       "There are doors in these directions: east, south\n",
       "In this room:\n",
       "\n",
       "\n",
       "\n",
       "You have: spoon"
      ]
     },
     "execution_count": 141,
     "metadata": {},
     "output_type": "execute_result"
    }
   ],
   "source": [
    "me.walk(\"north\")"
   ]
  },
  {
   "cell_type": "code",
   "execution_count": 142,
   "metadata": {},
   "outputs": [
    {
     "data": {
      "text/plain": [
       "You are in\n",
       "Bedroom\n",
       "There are doors in these directions: west\n",
       "In this room:\n",
       "\n",
       "\n",
       "\n",
       "You have: spoon"
      ]
     },
     "execution_count": 142,
     "metadata": {},
     "output_type": "execute_result"
    }
   ],
   "source": [
    "me.walk(\"east\")"
   ]
  },
  {
   "cell_type": "code",
   "execution_count": 143,
   "metadata": {},
   "outputs": [
    {
     "ename": "KeyError",
     "evalue": "'east'",
     "output_type": "error",
     "traceback": [
      "\u001b[0;31m---------------------------------------------------------------------------\u001b[0m",
      "\u001b[0;31mKeyError\u001b[0m                                  Traceback (most recent call last)",
      "Input \u001b[0;32mIn [143]\u001b[0m, in \u001b[0;36m<cell line: 1>\u001b[0;34m()\u001b[0m\n\u001b[0;32m----> 1\u001b[0m \u001b[43mme\u001b[49m\u001b[38;5;241;43m.\u001b[39;49m\u001b[43mwalk\u001b[49m\u001b[43m(\u001b[49m\u001b[38;5;124;43m\"\u001b[39;49m\u001b[38;5;124;43meast\u001b[39;49m\u001b[38;5;124;43m\"\u001b[39;49m\u001b[43m)\u001b[49m\n",
      "Input \u001b[0;32mIn [121]\u001b[0m, in \u001b[0;36mPerson.walk\u001b[0;34m(self, direction)\u001b[0m\n\u001b[1;32m     20\u001b[0m \u001b[38;5;28;01mdef\u001b[39;00m \u001b[38;5;21mwalk\u001b[39m(\u001b[38;5;28mself\u001b[39m, direction):\n\u001b[0;32m---> 21\u001b[0m     \u001b[38;5;28mself\u001b[39m\u001b[38;5;241m.\u001b[39mplace(\u001b[38;5;28;43mself\u001b[39;49m\u001b[38;5;241;43m.\u001b[39;49m\u001b[43mposition\u001b[49m\u001b[38;5;241;43m.\u001b[39;49m\u001b[43mdoors\u001b[49m\u001b[43m[\u001b[49m\u001b[43mdirection\u001b[49m\u001b[43m]\u001b[49m)\n\u001b[1;32m     22\u001b[0m     \u001b[38;5;28;01mreturn\u001b[39;00m \u001b[38;5;28mself\u001b[39m\n",
      "\u001b[0;31mKeyError\u001b[0m: 'east'"
     ]
    }
   ],
   "source": [
    "me.walk(\"east\")"
   ]
  },
  {
   "cell_type": "code",
   "execution_count": null,
   "metadata": {},
   "outputs": [],
   "source": []
  }
 ],
 "metadata": {
  "kernelspec": {
   "display_name": "emerald-interpret-gui",
   "language": "python",
   "name": "emerald-interpret-gui"
  },
  "language_info": {
   "codemirror_mode": {
    "name": "ipython",
    "version": 3
   },
   "file_extension": ".py",
   "mimetype": "text/x-python",
   "name": "python",
   "nbconvert_exporter": "python",
   "pygments_lexer": "ipython3",
   "version": "3.8.0"
  }
 },
 "nbformat": 4,
 "nbformat_minor": 2
}
